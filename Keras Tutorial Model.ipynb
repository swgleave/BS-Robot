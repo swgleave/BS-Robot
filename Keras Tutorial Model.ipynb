{
 "cells": [
  {
   "cell_type": "code",
   "execution_count": 27,
   "metadata": {},
   "outputs": [],
   "source": [
    "from numpy import array\n",
    "from pickle import dump\n",
    "from keras.utils import to_categorical\n",
    "from keras.models import Sequential\n",
    "from keras.layers import Dense\n",
    "from keras.layers import LSTM\n",
    "from keras.models import load_model\n",
    "from keras.preprocessing.sequence import pad_sequences\n",
    "from pickle import load"
   ]
  },
  {
   "cell_type": "code",
   "execution_count": 1,
   "metadata": {},
   "outputs": [],
   "source": [
    "# load doc into memory\n",
    "def load_doc(filename):\n",
    "    # open the file as read only\n",
    "    file = open(filename, 'r')\n",
    "    # read all text\n",
    "    text = file.read()\n",
    "    # close the file\n",
    "    file.close()\n",
    "    return text"
   ]
  },
  {
   "cell_type": "code",
   "execution_count": 2,
   "metadata": {},
   "outputs": [
    {
     "name": "stdout",
     "output_type": "stream",
     "text": [
      "Sing a song of sixpence,\n",
      "A pocket full of rye.\n",
      "Four and twenty blackbirds,\n",
      "Baked in a pie.\n",
      "\n",
      "When the pie was opened\n",
      "The birds began to sing;\n",
      "Wasn't that a dainty dish,\n",
      "To set before the king.\n",
      "\n",
      "The king was in his counting house,\n",
      "Counting out his money;\n",
      "The queen was in the parlour,\n",
      "Eating bread and honey.\n",
      "\n",
      "The maid was in the garden,\n",
      "Hanging out the clothes,\n",
      "When down came a blackbird\n",
      "And pecked off her nose.\n"
     ]
    }
   ],
   "source": [
    "# load text\n",
    "raw_text = load_doc('rhyme.txt')\n",
    "print(raw_text)"
   ]
  },
  {
   "cell_type": "code",
   "execution_count": 3,
   "metadata": {},
   "outputs": [],
   "source": [
    "# clean\n",
    "tokens = raw_text.split()\n",
    "raw_text = ' '.join(tokens)"
   ]
  },
  {
   "cell_type": "code",
   "execution_count": 4,
   "metadata": {},
   "outputs": [
    {
     "name": "stdout",
     "output_type": "stream",
     "text": [
      "Total Sequences: 399\n"
     ]
    }
   ],
   "source": [
    "# organize into sequences of characters\n",
    "length = 10\n",
    "sequences = list()\n",
    "for i in range(length, len(raw_text)):\n",
    "    # select sequence of tokens\n",
    "    seq = raw_text[i-length:i+1]\n",
    "    # store\n",
    "    sequences.append(seq)\n",
    "print('Total Sequences: %d' % len(sequences))"
   ]
  },
  {
   "cell_type": "code",
   "execution_count": 6,
   "metadata": {},
   "outputs": [],
   "source": [
    "# save tokens to file, one dialog per line\n",
    "def save_doc(lines, filename):\n",
    "    data = '\\n'.join(lines)\n",
    "    file = open(filename, 'w')\n",
    "    file.write(data)\n",
    "    file.close()"
   ]
  },
  {
   "cell_type": "code",
   "execution_count": 7,
   "metadata": {},
   "outputs": [],
   "source": [
    "# save sequences to file\n",
    "out_filename = 'char_sequencestutorial.txt'\n",
    "save_doc(sequences, out_filename)"
   ]
  },
  {
   "cell_type": "code",
   "execution_count": 8,
   "metadata": {},
   "outputs": [],
   "source": [
    "# load\n",
    "in_filename = 'char_sequencestutorial.txt'\n",
    "raw_text = load_doc(in_filename)\n",
    "lines = raw_text.split('\\n')"
   ]
  },
  {
   "cell_type": "code",
   "execution_count": 9,
   "metadata": {},
   "outputs": [],
   "source": [
    "chars = sorted(list(set(raw_text)))\n",
    "mapping = dict((c, i) for i, c in enumerate(chars))"
   ]
  },
  {
   "cell_type": "code",
   "execution_count": 10,
   "metadata": {},
   "outputs": [],
   "source": [
    "sequences = list()\n",
    "for line in lines:\n",
    "    # integer encode line\n",
    "    encoded_seq = [mapping[char] for char in line]\n",
    "    # store\n",
    "    sequences.append(encoded_seq)"
   ]
  },
  {
   "cell_type": "code",
   "execution_count": 11,
   "metadata": {},
   "outputs": [
    {
     "name": "stdout",
     "output_type": "stream",
     "text": [
      "Vocabulary Size: 38\n"
     ]
    }
   ],
   "source": [
    "# vocabulary size\n",
    "vocab_size = len(mapping)\n",
    "print('Vocabulary Size: %d' % vocab_size)"
   ]
  },
  {
   "cell_type": "code",
   "execution_count": 16,
   "metadata": {},
   "outputs": [],
   "source": [
    "sequences = array(sequences)\n",
    "X, y = sequences[:,:-1], sequences[:,-1]"
   ]
  },
  {
   "cell_type": "code",
   "execution_count": 17,
   "metadata": {},
   "outputs": [],
   "source": [
    "sequences = [to_categorical(x, num_classes=vocab_size) for x in X]\n",
    "X = array(sequences)\n",
    "y = to_categorical(y, num_classes=vocab_size)"
   ]
  },
  {
   "cell_type": "code",
   "execution_count": 18,
   "metadata": {},
   "outputs": [
    {
     "name": "stdout",
     "output_type": "stream",
     "text": [
      "_________________________________________________________________\n",
      "Layer (type)                 Output Shape              Param #   \n",
      "=================================================================\n",
      "lstm_1 (LSTM)                (None, 75)                34200     \n",
      "_________________________________________________________________\n",
      "dense_1 (Dense)              (None, 38)                2888      \n",
      "=================================================================\n",
      "Total params: 37,088\n",
      "Trainable params: 37,088\n",
      "Non-trainable params: 0\n",
      "_________________________________________________________________\n",
      "None\n"
     ]
    }
   ],
   "source": [
    "# define model\n",
    "model = Sequential()\n",
    "model.add(LSTM(75, input_shape=(X.shape[1], X.shape[2])))\n",
    "model.add(Dense(vocab_size, activation='softmax'))\n",
    "print(model.summary())"
   ]
  },
  {
   "cell_type": "code",
   "execution_count": 19,
   "metadata": {},
   "outputs": [
    {
     "name": "stdout",
     "output_type": "stream",
     "text": [
      "Epoch 1/100\n",
      " - 1s - loss: 3.6085 - acc: 0.1429\n",
      "Epoch 2/100\n",
      " - 0s - loss: 3.5066 - acc: 0.2030\n",
      "Epoch 3/100\n",
      " - 0s - loss: 3.1910 - acc: 0.1905\n",
      "Epoch 4/100\n",
      " - 0s - loss: 3.0478 - acc: 0.1905\n",
      "Epoch 5/100\n",
      " - 0s - loss: 3.0226 - acc: 0.1905\n",
      "Epoch 6/100\n",
      " - 0s - loss: 2.9825 - acc: 0.1905\n",
      "Epoch 7/100\n",
      " - 0s - loss: 2.9722 - acc: 0.1905\n",
      "Epoch 8/100\n",
      " - 0s - loss: 2.9477 - acc: 0.1905\n",
      "Epoch 9/100\n",
      " - 0s - loss: 2.9238 - acc: 0.1905\n",
      "Epoch 10/100\n",
      " - 0s - loss: 2.8951 - acc: 0.1905\n",
      "Epoch 11/100\n",
      " - 0s - loss: 2.8813 - acc: 0.2080\n",
      "Epoch 12/100\n",
      " - 0s - loss: 2.8484 - acc: 0.2206\n",
      "Epoch 13/100\n",
      " - 0s - loss: 2.8083 - acc: 0.2105\n",
      "Epoch 14/100\n",
      " - 0s - loss: 2.7729 - acc: 0.2180\n",
      "Epoch 15/100\n",
      " - 0s - loss: 2.7536 - acc: 0.2155\n",
      "Epoch 16/100\n",
      " - 0s - loss: 2.7232 - acc: 0.2306\n",
      "Epoch 17/100\n",
      " - 0s - loss: 2.6610 - acc: 0.2331\n",
      "Epoch 18/100\n",
      " - 0s - loss: 2.6383 - acc: 0.2657\n",
      "Epoch 19/100\n",
      " - 0s - loss: 2.5870 - acc: 0.2882\n",
      "Epoch 20/100\n",
      " - 0s - loss: 2.5544 - acc: 0.3008\n",
      "Epoch 21/100\n",
      " - 0s - loss: 2.5050 - acc: 0.3158\n",
      "Epoch 22/100\n",
      " - 0s - loss: 2.4620 - acc: 0.3083\n",
      "Epoch 23/100\n",
      " - 0s - loss: 2.4070 - acc: 0.3233\n",
      "Epoch 24/100\n",
      " - 0s - loss: 2.3694 - acc: 0.3358\n",
      "Epoch 25/100\n",
      " - 0s - loss: 2.3171 - acc: 0.3383\n",
      "Epoch 26/100\n",
      " - 0s - loss: 2.2701 - acc: 0.3308\n",
      "Epoch 27/100\n",
      " - 0s - loss: 2.2320 - acc: 0.3459\n",
      "Epoch 28/100\n",
      " - 0s - loss: 2.1972 - acc: 0.3509\n",
      "Epoch 29/100\n",
      " - 0s - loss: 2.1422 - acc: 0.3684\n",
      "Epoch 30/100\n",
      " - 0s - loss: 2.0930 - acc: 0.3960\n",
      "Epoch 31/100\n",
      " - 0s - loss: 2.0549 - acc: 0.4085\n",
      "Epoch 32/100\n",
      " - 0s - loss: 2.0362 - acc: 0.4010\n",
      "Epoch 33/100\n",
      " - 0s - loss: 1.9882 - acc: 0.4010\n",
      "Epoch 34/100\n",
      " - 0s - loss: 1.9667 - acc: 0.4286\n",
      "Epoch 35/100\n",
      " - 0s - loss: 1.9154 - acc: 0.4461\n",
      "Epoch 36/100\n",
      " - 0s - loss: 1.8558 - acc: 0.4561\n",
      "Epoch 37/100\n",
      " - 0s - loss: 1.8092 - acc: 0.4887\n",
      "Epoch 38/100\n",
      " - 0s - loss: 1.7773 - acc: 0.5013\n",
      "Epoch 39/100\n",
      " - 0s - loss: 1.7368 - acc: 0.4987\n",
      "Epoch 40/100\n",
      " - 0s - loss: 1.7015 - acc: 0.5113\n",
      "Epoch 41/100\n",
      " - 0s - loss: 1.6548 - acc: 0.5238\n",
      "Epoch 42/100\n",
      " - 0s - loss: 1.6216 - acc: 0.5313\n",
      "Epoch 43/100\n",
      " - 0s - loss: 1.6028 - acc: 0.5514\n",
      "Epoch 44/100\n",
      " - 0s - loss: 1.5903 - acc: 0.5414\n",
      "Epoch 45/100\n",
      " - 0s - loss: 1.5647 - acc: 0.5363\n",
      "Epoch 46/100\n",
      " - 0s - loss: 1.5128 - acc: 0.5464\n",
      "Epoch 47/100\n",
      " - 0s - loss: 1.4683 - acc: 0.6140\n",
      "Epoch 48/100\n",
      " - 0s - loss: 1.4225 - acc: 0.6491\n",
      "Epoch 49/100\n",
      " - 0s - loss: 1.3950 - acc: 0.6341\n",
      "Epoch 50/100\n",
      " - 0s - loss: 1.3491 - acc: 0.6416\n",
      "Epoch 51/100\n",
      " - 0s - loss: 1.3322 - acc: 0.6366\n",
      "Epoch 52/100\n",
      " - 0s - loss: 1.2782 - acc: 0.6792\n",
      "Epoch 53/100\n",
      " - 0s - loss: 1.2908 - acc: 0.6667\n",
      "Epoch 54/100\n",
      " - 0s - loss: 1.2585 - acc: 0.6767\n",
      "Epoch 55/100\n",
      " - 0s - loss: 1.1930 - acc: 0.7218\n",
      "Epoch 56/100\n",
      " - 0s - loss: 1.1527 - acc: 0.7218\n",
      "Epoch 57/100\n",
      " - 0s - loss: 1.1234 - acc: 0.7343\n",
      "Epoch 58/100\n",
      " - 0s - loss: 1.0955 - acc: 0.7293\n",
      "Epoch 59/100\n",
      " - 0s - loss: 1.0699 - acc: 0.7519\n",
      "Epoch 60/100\n",
      " - 0s - loss: 1.0199 - acc: 0.7870\n",
      "Epoch 61/100\n",
      " - 0s - loss: 1.0039 - acc: 0.7920\n",
      "Epoch 62/100\n",
      " - 0s - loss: 0.9727 - acc: 0.7794\n",
      "Epoch 63/100\n",
      " - 0s - loss: 0.9412 - acc: 0.8070\n",
      "Epoch 64/100\n",
      " - 0s - loss: 0.9066 - acc: 0.8346\n",
      "Epoch 65/100\n",
      " - 0s - loss: 0.8842 - acc: 0.8271\n",
      "Epoch 66/100\n",
      " - 0s - loss: 0.8626 - acc: 0.8421\n",
      "Epoch 67/100\n",
      " - 0s - loss: 0.8238 - acc: 0.8446\n",
      "Epoch 68/100\n",
      " - 0s - loss: 0.8100 - acc: 0.8596\n",
      "Epoch 69/100\n",
      " - 0s - loss: 0.8107 - acc: 0.8446\n",
      "Epoch 70/100\n",
      " - 0s - loss: 0.7482 - acc: 0.8797\n",
      "Epoch 71/100\n",
      " - 0s - loss: 0.7188 - acc: 0.8822\n",
      "Epoch 72/100\n",
      " - 0s - loss: 0.6976 - acc: 0.9048\n",
      "Epoch 73/100\n",
      " - 0s - loss: 0.6668 - acc: 0.9023\n",
      "Epoch 74/100\n",
      " - 0s - loss: 0.6398 - acc: 0.9048\n",
      "Epoch 75/100\n",
      " - 0s - loss: 0.6135 - acc: 0.9223\n",
      "Epoch 76/100\n",
      " - 0s - loss: 0.5918 - acc: 0.9273\n",
      "Epoch 77/100\n",
      " - 0s - loss: 0.5687 - acc: 0.9248\n",
      "Epoch 78/100\n",
      " - 0s - loss: 0.5475 - acc: 0.9348\n",
      "Epoch 79/100\n",
      " - 0s - loss: 0.5396 - acc: 0.9398\n",
      "Epoch 80/100\n",
      " - 0s - loss: 0.5103 - acc: 0.9424\n",
      "Epoch 81/100\n",
      " - 0s - loss: 0.4891 - acc: 0.9549\n",
      "Epoch 82/100\n",
      " - 0s - loss: 0.4686 - acc: 0.9599\n",
      "Epoch 83/100\n",
      " - 0s - loss: 0.4492 - acc: 0.9724\n",
      "Epoch 84/100\n",
      " - 0s - loss: 0.4267 - acc: 0.9724\n",
      "Epoch 85/100\n",
      " - 0s - loss: 0.4081 - acc: 0.9699\n",
      "Epoch 86/100\n",
      " - 0s - loss: 0.3940 - acc: 0.9825\n",
      "Epoch 87/100\n",
      " - 0s - loss: 0.3827 - acc: 0.9825\n",
      "Epoch 88/100\n",
      " - 0s - loss: 0.3662 - acc: 0.9875\n",
      "Epoch 89/100\n",
      " - 0s - loss: 0.3489 - acc: 0.9925\n",
      "Epoch 90/100\n",
      " - 0s - loss: 0.3323 - acc: 0.9875\n",
      "Epoch 91/100\n",
      " - 0s - loss: 0.3184 - acc: 0.9950\n",
      "Epoch 92/100\n",
      " - 0s - loss: 0.3107 - acc: 0.9900\n",
      "Epoch 93/100\n",
      " - 0s - loss: 0.3000 - acc: 0.9850\n",
      "Epoch 94/100\n",
      " - 0s - loss: 0.2912 - acc: 0.9950\n",
      "Epoch 95/100\n",
      " - 0s - loss: 0.2765 - acc: 0.9925\n",
      "Epoch 96/100\n",
      " - 0s - loss: 0.2633 - acc: 0.9900\n",
      "Epoch 97/100\n",
      " - 0s - loss: 0.2560 - acc: 0.9925\n",
      "Epoch 98/100\n",
      " - 0s - loss: 0.2416 - acc: 0.9925\n",
      "Epoch 99/100\n",
      " - 0s - loss: 0.2362 - acc: 0.9875\n",
      "Epoch 100/100\n",
      " - 0s - loss: 0.2266 - acc: 0.9925\n"
     ]
    },
    {
     "data": {
      "text/plain": [
       "<keras.callbacks.History at 0xb1d937860>"
      ]
     },
     "execution_count": 19,
     "metadata": {},
     "output_type": "execute_result"
    }
   ],
   "source": [
    "# compile model\n",
    "model.compile(loss='categorical_crossentropy', optimizer='adam', metrics=['accuracy'])\n",
    "# fit model\n",
    "model.fit(X, y, epochs=100, verbose=2)"
   ]
  },
  {
   "cell_type": "code",
   "execution_count": 20,
   "metadata": {},
   "outputs": [],
   "source": [
    "# save the model to file\n",
    "model.save('modeltutorial.h5')"
   ]
  },
  {
   "cell_type": "code",
   "execution_count": 21,
   "metadata": {},
   "outputs": [],
   "source": [
    "# save the mapping\n",
    "dump(mapping, open('mappingtutorial.pkl', 'wb'))"
   ]
  },
  {
   "cell_type": "code",
   "execution_count": 24,
   "metadata": {},
   "outputs": [],
   "source": [
    "# load the model\n",
    "model = load_model('modeltutorial.h5')"
   ]
  },
  {
   "cell_type": "code",
   "execution_count": 28,
   "metadata": {},
   "outputs": [],
   "source": [
    "# load the mapping\n",
    "mapping = load(open('mappingtutorial.pkl', 'rb'))"
   ]
  },
  {
   "cell_type": "code",
   "execution_count": 30,
   "metadata": {},
   "outputs": [],
   "source": [
    "# generate a sequence of characters with a language model\n",
    "def generate_seq(model, mapping, seq_length, seed_text, n_chars):\n",
    "    in_text = seed_text\n",
    "    # generate a fixed number of characters\n",
    "    for _ in range(n_chars):\n",
    "        # encode the characters as integers\n",
    "        encoded = [mapping[char] for char in in_text]\n",
    "        # truncate sequences to a fixed length\n",
    "        encoded = pad_sequences([encoded], maxlen=seq_length, truncating='pre')\n",
    "        # one hot encode\n",
    "        encoded = to_categorical(encoded, num_classes=len(mapping))\n",
    "        # predict character\n",
    "        yhat = model.predict_classes(encoded, verbose=0)\n",
    "        # reverse map integer to character\n",
    "        out_char = ''\n",
    "        for char, index in mapping.items():\n",
    "            if index == yhat:\n",
    "                out_char = char\n",
    "                break\n",
    "        # append to input\n",
    "        in_text += char\n",
    "    return in_text"
   ]
  },
  {
   "cell_type": "code",
   "execution_count": 34,
   "metadata": {},
   "outputs": [
    {
     "name": "stdout",
     "output_type": "stream",
     "text": [
      "Sing a song of sixpence, A poc\n",
      "king was in his counting house\n",
      "four and pinnty hhe moue .he pa\n"
     ]
    }
   ],
   "source": [
    "# test start of rhyme\n",
    "print(generate_seq(model, mapping, 10, 'Sing a son', 20))\n",
    "# test mid-line\n",
    "print(generate_seq(model, mapping, 10, 'king was i', 20))\n",
    "# test not in original\n",
    "print(generate_seq(model, mapping, 10, 'four and pi', 20))"
   ]
  },
  {
   "cell_type": "code",
   "execution_count": null,
   "metadata": {},
   "outputs": [],
   "source": []
  }
 ],
 "metadata": {
  "kernelspec": {
   "display_name": "Python 3",
   "language": "python",
   "name": "python3"
  },
  "language_info": {
   "codemirror_mode": {
    "name": "ipython",
    "version": 3
   },
   "file_extension": ".py",
   "mimetype": "text/x-python",
   "name": "python",
   "nbconvert_exporter": "python",
   "pygments_lexer": "ipython3",
   "version": "3.6.5"
  }
 },
 "nbformat": 4,
 "nbformat_minor": 2
}
