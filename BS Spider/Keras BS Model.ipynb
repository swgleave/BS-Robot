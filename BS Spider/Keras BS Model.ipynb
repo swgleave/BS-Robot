{
 "cells": [
  {
   "cell_type": "code",
   "execution_count": 1,
   "metadata": {},
   "outputs": [
    {
     "name": "stdout",
     "output_type": "stream",
     "text": [
      "If the rumors are true and Doc Rivers gets a contract extension soon, I just hope the Celtics tell the truth in the ensuing news conference. Don't feed us lines like \"Thanks to Doc, our young players \n",
      "['if', 'the', 'rumors', 'are', 'true', 'and', 'doc', 'rivers', 'gets', 'a', 'contract', 'extension', 'soon', 'i', 'just', 'hope', 'the', 'celtics', 'tell', 'the', 'truth', 'in', 'the', 'ensuing', 'news', 'conference', 'dont', 'feed', 'us', 'lines', 'like', 'thanks', 'to', 'doc', 'our', 'young', 'players', 'made', 'major', 'strides', 'this', 'season', 'or', 'we', 'would', 'have', 'made', 'the', 'playoffs', 'if', 'we', 'didnt', 'have', 'so', 'many', 'injuries', 'thats', 'a', 'load', 'of', 'crap', 'maybe', 'those', 'arent', 'lies', 'but', 'they', 'seem', 'like', 'fibs', 'along', 'the', 'lines', 'of', 'i', 'dont', 'think', 'those', 'jeans', 'make', 'you', 'look', 'fat', 'at', 'all', 'theyre', 'just', 'the', 'wrong', 'size', 'and', 'i', 'wasnt', 'checking', 'her', 'out', 'i', 'thought', 'i', 'recognized', 'her', 'am', 'i', 'complaining', 'hell', 'no', 'you', 'couldnt', 'have', 'asked', 'for', 'a', 'better', 'leader', 'for', 'an', 'undercover', 'tanking', 'mission', 'this', 'was', 'like', 'hiring', 'eddie', 'griffin', 'to', 'wreck', 'your', 'archenemys', 'ferrari', 'so', 'why', 'not', 'admit', 'this', 'at', 'the', 'news', 'conference', 'and', 'if', 'youre', 'not', 'admitting', 'it', 'have', 'some', 'fun', 'and', 'hand', 'out', 'a', 'top', 'reasons', 'why', 'were', 'extending', 'doc', 'rivers', 'that', 'have', 'nothing', 'to', 'do', 'with', 'the', 'fact', 'that', 'he', 'successfully', 'executed', 'his', 'tanking', 'mission', 'list', 'reason', 'no', 'its', 'not', 'every', 'day', 'you', 'can', 'lock', 'up', 'a', 'coach', 'with', 'a', 'career', 'record', 'of', 'no', 'we', 'appreciate', 'how', 'doc', 'made', 'the', 'best']\n",
      "Total Tokens: 1016491\n",
      "Unique Tokens: 39395\n",
      "Total Sequences: 1016440\n"
     ]
    }
   ],
   "source": [
    "import string\n",
    "\n",
    "# load doc into memory\n",
    "def load_doc(filename):\n",
    "    # open the file as read only\n",
    "    file = open(filename, 'r')\n",
    "    # read all text\n",
    "    text = file.read()\n",
    "    # close the file\n",
    "    file.close()\n",
    "    return text\n",
    "\n",
    "# turn a doc into clean tokens\n",
    "def clean_doc(doc):\n",
    "    # replace '--' with a space ' '\n",
    "    doc = doc.replace('--', ' ')\n",
    "    # split into tokens by white space\n",
    "    tokens = doc.split()\n",
    "    # remove punctuation from each token\n",
    "    table = str.maketrans('', '', string.punctuation)\n",
    "    tokens = [w.translate(table) for w in tokens]\n",
    "    # remove remaining tokens that are not alphabetic\n",
    "    tokens = [word for word in tokens if word.isalpha()]\n",
    "    # make lower case\n",
    "    tokens = [word.lower() for word in tokens]\n",
    "    return tokens\n",
    "\n",
    "# save tokens to file, one dialog per line\n",
    "def save_doc(lines, filename):\n",
    "    data = '\\n'.join(lines)\n",
    "    file = open(filename, 'w')\n",
    "    file.write(data)\n",
    "    file.close()\n",
    "\n",
    "# load document\n",
    "in_filename = 'cleanedespn.txt'\n",
    "doc = load_doc(in_filename)\n",
    "print(doc[:200])\n",
    "\n",
    "# clean document\n",
    "tokens = clean_doc(doc)\n",
    "print(tokens[:200])\n",
    "print('Total Tokens: %d' % len(tokens))\n",
    "print('Unique Tokens: %d' % len(set(tokens)))\n",
    "\n",
    "# organize into sequences of tokens\n",
    "length = 50 + 1\n",
    "sequences = list()\n",
    "for i in range(length, len(tokens)):\n",
    "    # select sequence of tokens\n",
    "    seq = tokens[i-length:i]\n",
    "    # convert into a line\n",
    "    line = ' '.join(seq)\n",
    "    # store\n",
    "    sequences.append(line)\n",
    "print('Total Sequences: %d' % len(sequences))\n",
    "\n",
    "# save sequences to file\n",
    "out_filename = 'espn_sequences.txt'\n",
    "save_doc(sequences, out_filename)"
   ]
  },
  {
   "cell_type": "code",
   "execution_count": null,
   "metadata": {},
   "outputs": [],
   "source": []
  }
 ],
 "metadata": {
  "kernelspec": {
   "display_name": "Python 3",
   "language": "python",
   "name": "python3"
  },
  "language_info": {
   "codemirror_mode": {
    "name": "ipython",
    "version": 3
   },
   "file_extension": ".py",
   "mimetype": "text/x-python",
   "name": "python",
   "nbconvert_exporter": "python",
   "pygments_lexer": "ipython3",
   "version": "3.6.6"
  }
 },
 "nbformat": 4,
 "nbformat_minor": 2
}
